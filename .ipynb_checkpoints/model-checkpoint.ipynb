{
 "cells": [
  {
   "cell_type": "code",
   "execution_count": 2,
   "metadata": {},
   "outputs": [],
   "source": [
    "import matplotlib.pyplot as plt\n",
    "import tensorflow as tf\n",
    "import tensorflow.keras as keras\n",
    "from tensorflow.keras import layers\n",
    "import os, sys\n",
    "# from numba import cuda "
   ]
  },
  {
   "cell_type": "code",
   "execution_count": 3,
   "metadata": {},
   "outputs": [
    {
     "name": "stdout",
     "output_type": "stream",
     "text": [
      "False\n"
     ]
    }
   ],
   "source": [
    "os.environ['CUDA_VISIBLE_DEVICES']=\"0\"\n",
    "print(tf.test.is_gpu_available())"
   ]
  },
  {
   "cell_type": "code",
   "execution_count": 5,
   "metadata": {},
   "outputs": [],
   "source": [
    "class Generator(keras.Model):\n",
    "    def __init__(self):\n",
    "        super(Generator, self).__init__()\n",
    "        self.fc_layer_1 = layers.Dense(128, use_bias=False, activation='tanh')\n",
    "#         self.bn_1 = layers.BatchNormalization()\n",
    "\n",
    "        self.fc_layer_2 = layers.Dense(256, use_bias=False, activation='tanh')\n",
    "#         self.bn_2 = layers.BatchNormalization()\n",
    "\n",
    "        self.fc_layer_3 = layers.Dense(512, use_bias=False, activation='tanh')\n",
    "#         self.bn_3 = layers.BatchNormalization()\n",
    "\n",
    "        self.output_layer = tf.keras.layers.Dense(73, use_bias, activation='sigmoid')\n",
    "\n",
    "    def call(self, inputs, training=None):\n",
    "        x = self.fc_layer_1(inputs)\n",
    "        x = self.fc_layer_2(x)\n",
    "        x = self.fc_layer_3(x)\n",
    "        x = self.output_layer(x)\n",
    "        \n",
    "        return x"
   ]
  },
  {
   "cell_type": "code",
   "execution_count": 4,
   "metadata": {},
   "outputs": [],
   "source": [
    "class Discriminator(keras.Model):\n",
    "    def __init__(self):\n",
    "        super(Discriminator, self).__init__()\n",
    "        self.fc_layer_1 = layers.Dense(512, use_bias=False, activation='tanh')\n",
    "#         self.bn_1 = layers.BatchNormalization()\n",
    "\n",
    "        self.fc_layer_2 = layers.Dense(256, use_bias=False, activation='tanh')\n",
    "#         self.bn_2 = layers.BatchNormalization()\n",
    "\n",
    "        self.fc_layer_3 = layers.Dense(128, use_bias=False, activation='tanh')\n",
    "\n",
    "#         self.bn_3 = layers.BatchNormalization()\n",
    "        self.output_layer = layers.Dense(1, use_bias=False, activation='linear')\n",
    "\n",
    "    def call(self, inputs, training=None):\n",
    "        x = fc_layer_1(inputs)\n",
    "        x = self.fc_layer_2(x)\n",
    "        x = self.fc_layer_3(x)\n",
    "        x = self.output_layer(x)\n",
    "\n",
    "        return x"
   ]
  },
  {
   "cell_type": "code",
   "execution_count": null,
   "metadata": {},
   "outputs": [],
   "source": []
  },
  {
   "cell_type": "code",
   "execution_count": null,
   "metadata": {},
   "outputs": [],
   "source": []
  },
  {
   "cell_type": "code",
   "execution_count": null,
   "metadata": {},
   "outputs": [],
   "source": []
  },
  {
   "cell_type": "code",
   "execution_count": null,
   "metadata": {},
   "outputs": [],
   "source": []
  }
 ],
 "metadata": {
  "kernelspec": {
   "display_name": "Python 3",
   "language": "python",
   "name": "python3"
  },
  "language_info": {
   "codemirror_mode": {
    "name": "ipython",
    "version": 3
   },
   "file_extension": ".py",
   "mimetype": "text/x-python",
   "name": "python",
   "nbconvert_exporter": "python",
   "pygments_lexer": "ipython3",
   "version": "3.6.9"
  }
 },
 "nbformat": 4,
 "nbformat_minor": 2
}
