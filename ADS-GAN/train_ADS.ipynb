{
 "cells": [
  {
   "cell_type": "code",
   "execution_count": null,
   "metadata": {},
   "outputs": [],
   "source": [
    "import pandas as pd \n",
    "import numpy as np\n",
    "import tensorflow as tf\n",
    "import tensorflow.keras as keras\n",
    "import os, sys, time\n",
    "sys.path.append(\"..\")\n",
    "from all_funcs import util\n",
    "from model import Generator, Discriminator, train_discriminator, train_generator\n",
    "from sklearn.preprocessing import MinMaxScaler\n",
    "from tensorflow.keras import layers\n",
    "from sklearn.impute import SimpleImputer\n",
    "tf.keras.backend.set_floatx('float64')\n",
    "pd.set_option('display.max_rows',500)\n",
    "pd.set_option('display.max_columns',500)"
   ]
  },
  {
   "cell_type": "code",
   "execution_count": null,
   "metadata": {},
   "outputs": [],
   "source": [
    "from numba import cuda\n",
    "os.environ['CUDA_VISIBLE_DEVICES']=\"0\"\n",
    "print(tf.test.is_gpu_available())"
   ]
  },
  {
   "cell_type": "code",
   "execution_count": null,
   "metadata": {},
   "outputs": [],
   "source": [
    "df=pd.read_csv(\"../dataset/df_noOutliner_ana.csv\",index_col=0)\n",
    "df, imp_mode, imp_mean=util.FeatureArrange(df)"
   ]
  },
  {
   "cell_type": "code",
   "execution_count": null,
   "metadata": {},
   "outputs": [],
   "source": [
    "## reduce redundant features which can be assembled\n",
    "dataset=df.drop(['NIHTotal','THD_ID','cortical_CT', 'subcortical_CT',\n",
    "              'circulation_CT', 'CT_find', 'watershed_CT', 'Hemorrhagic_infarct_CT',\n",
    "              'CT_left', 'CT_right',],axis=1)"
   ]
  },
  {
   "cell_type": "code",
   "execution_count": null,
   "metadata": {},
   "outputs": [],
   "source": [
    "sc = MinMaxScaler()\n",
    "dataset.loc[:,dataset.columns!='elapsed_class'] = sc.fit_transform(dataset.loc[:,dataset.columns!='elapsed_class'])\n"
   ]
  },
  {
   "cell_type": "code",
   "execution_count": null,
   "metadata": {},
   "outputs": [],
   "source": [
    "## setting hyperparameter\n",
    "latent_dim = dataset.shape[1]\n",
    "epochs = 1000\n",
    "batch_size= 128\n",
    "buffer_size = 6000\n",
    "# save_interval = 50\n",
    "n_critic = 5\n",
    "checkpoint_dir = './training_checkpoints'\n"
   ]
  },
  {
   "cell_type": "code",
   "execution_count": null,
   "metadata": {},
   "outputs": [],
   "source": [
    "generator = Generator()\n",
    "discriminator = Discriminator()"
   ]
  },
  {
   "cell_type": "code",
   "execution_count": null,
   "metadata": {},
   "outputs": [],
   "source": [
    "## create Cross Entropy\n",
    "cross_entropy = tf.keras.losses.BinaryCrossentropy(from_logits=True)"
   ]
  },
  {
   "cell_type": "code",
   "execution_count": null,
   "metadata": {},
   "outputs": [],
   "source": [
    "gen_opt = tf.keras.optimizers.Adam(0.0001,)\n",
    "disc_opt = tf.keras.optimizers.Adam(0.0001,)"
   ]
  },
  {
   "cell_type": "code",
   "execution_count": null,
   "metadata": {},
   "outputs": [],
   "source": []
  },
  {
   "cell_type": "code",
   "execution_count": null,
   "metadata": {},
   "outputs": [],
   "source": [
    "# save checkpoints\n",
    "checkpoint_prefix = os.path.join(checkpoint_dir, \"ckpt\")\n",
    "checkpoint = tf.train.Checkpoint(generator_optimizer=gen_opt,\n",
    "                                 discriminator_optimizer=disc_opt,\n",
    "                                 generator=generator,\n",
    "                                 discriminator=discriminator)"
   ]
  },
  {
   "cell_type": "code",
   "execution_count": null,
   "metadata": {},
   "outputs": [],
   "source": [
    "# separate to 0,1 dataset\n",
    "data_1=dataset.loc[dataset['elapsed_class']==1]\n",
    "data_0=dataset.loc[dataset['elapsed_class']==0]"
   ]
  },
  {
   "cell_type": "code",
   "execution_count": null,
   "metadata": {},
   "outputs": [],
   "source": [
    "for epoch in range(epochs):\n",
    "    start = time.time()\n",
    "    disc_loss = 0\n",
    "    gen_loss = 0\n",
    "\n",
    "    # resample the dataset\n",
    "    data1_shape_0 = data_1.sample(data_0.shape[0])\n",
    "    df_same_shape = pd.concat([data1_shape_0, data_0])\n",
    "\n",
    "    # slices to data and labels\n",
    "    df_same_ = df_same_shape.iloc[:, :-1].to_numpy()\n",
    "    org_label = df_same_shape.iloc[:, -1].to_numpy().reshape(-1, 1)\n",
    "\n",
    "    # create batch dataset\n",
    "    training_dataset = tf.data.Dataset.from_tensor_slices((df_same_, org_label))\\\n",
    "        .shuffle(buffer_size).batch(batch_size, drop_remainder=True)\n",
    "\n",
    "    for data, labels in training_dataset:\n",
    "\n",
    "        disc_loss += train_discriminator(data, generator,\n",
    "                                         discriminator, disc_opt, latent_dim)\n",
    "\n",
    "        if disc_opt.iterations.numpy() % n_critic == 0:\n",
    "            gen_loss += train_generator(data, generator,\n",
    "                                        discriminator, gen_opt, batch_size, latent_dim)\n",
    "    print('Time for epoch {} is {} sec - gen_loss = {}, disc_loss = {}'.format(epoch + 1, time.time() - start,\n",
    "                                                                               gen_loss / batch_size,\n",
    "                                                                               disc_loss / (batch_size*n_critic)))"
   ]
  },
  {
   "cell_type": "code",
   "execution_count": null,
   "metadata": {},
   "outputs": [],
   "source": [
    "noise = tf.random.normal([128*2, latent_dim])\n",
    "zero_label=tf.zeros((128),)\n",
    "one_label =tf.ones((128),)\n",
    "all_labels=tf.reshape(tf.stack([zero_label,one_label]),(-1,1))\n",
    "\n",
    "gen_=generator(noise,all_labels).numpy()"
   ]
  },
  {
   "cell_type": "code",
   "execution_count": null,
   "metadata": {},
   "outputs": [],
   "source": [
    "output_dataset=pd.DataFrame(np.round(sc.inverse_transform(gen_)),columns=[\n",
    "'BT_NM', 'HR_NM', 'RR_NM', 'HB_NM', 'HCT_NM', 'PLATELET_NM', 'WBC_NM',\n",
    "       'PTT1_NM', 'PTT2_NM', 'PTINR_NM', 'ER_NM', 'BUN_NM', 'CRE_NM', 'BMI',\n",
    "       'age', 'PPD', 'THDA_FL', 'THDH_FL', 'THDI_FL', 'THDAM_FL', 'THDV_FL',\n",
    "       'THDE_FL', 'THDM_FL', 'THDR_FL', 'THDP_FL', 'THDOO_FL', 'Gender',\n",
    "       'cortical_ACA_ctr', 'cortical_MCA_ctr', 'subcortical_ACA_ctr',\n",
    "       'subcortical_MCA_ctr', 'PCA_cortex_ctr', 'thalamus_ctr',\n",
    "       'brainstem_ctr', 'cerebellum_ctr', 'Watershed_ctr',\n",
    "       'Hemorrhagic_infarct_ctr', 'cortical_ACA_ctl', 'cortical_MCA_ctl',\n",
    "       'subcortical_ACA_ctl', 'subcortical_MCA_ctl', 'PCA_cortex_ctl',\n",
    "       'thalamus_ctl', 'brainstem_ctl', 'cerebellum_ctl', 'Watershed_ctl',\n",
    "       'Hemorrhagic_infarct_ctl', 'NIHS_1a_in', 'NIHS_1b_in', 'NIHS_1c_in',\n",
    "       'NIHS_2_in', 'NIHS_3_in', 'NIHS_4_in', 'NIHS_5aL_in', 'NIHS_5bR_in',\n",
    "       'NIHS_6aL_in', 'NIHS_6bR_in', 'NIHS_7_in', 'NIHS_8_in', 'NIHS_9_in',\n",
    "       'NIHS_10_in', 'NIHS_11_in',\n",
    "])\n",
    "output_dataset"
   ]
  },
  {
   "cell_type": "code",
   "execution_count": null,
   "metadata": {},
   "outputs": [],
   "source": [
    "# output_dataset.to_csv(\"../dataset/output_dataset/cWGAN_1d_2_models.csv\",encoding='utf_8_sig')"
   ]
  },
  {
   "cell_type": "code",
   "execution_count": null,
   "metadata": {},
   "outputs": [],
   "source": []
  },
  {
   "cell_type": "code",
   "execution_count": null,
   "metadata": {},
   "outputs": [],
   "source": []
  }
 ],
 "metadata": {
  "kernelspec": {
   "display_name": "Python 3",
   "language": "python",
   "name": "python3"
  },
  "language_info": {
   "codemirror_mode": {
    "name": "ipython",
    "version": 3
   },
   "file_extension": ".py",
   "mimetype": "text/x-python",
   "name": "python",
   "nbconvert_exporter": "python",
   "pygments_lexer": "ipython3",
   "version": "3.6.9"
  }
 },
 "nbformat": 4,
 "nbformat_minor": 2
}
